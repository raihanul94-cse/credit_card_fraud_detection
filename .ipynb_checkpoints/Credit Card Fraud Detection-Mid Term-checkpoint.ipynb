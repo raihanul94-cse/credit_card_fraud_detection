{
 "cells": [
  {
   "cell_type": "markdown",
   "metadata": {},
   "source": [
    "# <center>Credit Card Fraud Detection</center>"
   ]
  },
  {
   "cell_type": "markdown",
   "metadata": {},
   "source": [
    "### Load Libraries"
   ]
  },
  {
   "cell_type": "code",
   "execution_count": 1,
   "metadata": {},
   "outputs": [],
   "source": [
    "import numpy as np\n",
    "import pandas as pd\n",
    "import seaborn as sns\n",
    "import matplotlib.pyplot as plt\n",
    "from sklearn.metrics import confusion_matrix, accuracy_score, recall_score, f1_score, precision_score\n",
    "from sklearn.model_selection import train_test_split\n",
    "from sklearn.neighbors import KNeighborsClassifier\n",
    "from sklearn.neural_network import MLPClassifier\n",
    "from sklearn.ensemble import RandomForestClassifier\n",
    "from xgboost import XGBClassifier"
   ]
  },
  {
   "cell_type": "markdown",
   "metadata": {},
   "source": [
    "### Load the Sample Data\n",
    "\n",
    "Data column explanations/definitions"
   ]
  },
  {
   "cell_type": "code",
   "execution_count": 2,
   "metadata": {},
   "outputs": [
    {
     "data": {
      "text/html": [
       "<div>\n",
       "<style scoped>\n",
       "    .dataframe tbody tr th:only-of-type {\n",
       "        vertical-align: middle;\n",
       "    }\n",
       "\n",
       "    .dataframe tbody tr th {\n",
       "        vertical-align: top;\n",
       "    }\n",
       "\n",
       "    .dataframe thead th {\n",
       "        text-align: right;\n",
       "    }\n",
       "</style>\n",
       "<table border=\"1\" class=\"dataframe\">\n",
       "  <thead>\n",
       "    <tr style=\"text-align: right;\">\n",
       "      <th></th>\n",
       "      <th>Time</th>\n",
       "      <th>V1</th>\n",
       "      <th>V2</th>\n",
       "      <th>V3</th>\n",
       "      <th>V4</th>\n",
       "      <th>V5</th>\n",
       "      <th>V6</th>\n",
       "      <th>V7</th>\n",
       "      <th>V8</th>\n",
       "      <th>V9</th>\n",
       "      <th>...</th>\n",
       "      <th>V21</th>\n",
       "      <th>V22</th>\n",
       "      <th>V23</th>\n",
       "      <th>V24</th>\n",
       "      <th>V25</th>\n",
       "      <th>V26</th>\n",
       "      <th>V27</th>\n",
       "      <th>V28</th>\n",
       "      <th>Amount</th>\n",
       "      <th>Class</th>\n",
       "    </tr>\n",
       "  </thead>\n",
       "  <tbody>\n",
       "    <tr>\n",
       "      <th>0</th>\n",
       "      <td>0.0</td>\n",
       "      <td>-1.359807</td>\n",
       "      <td>-0.072781</td>\n",
       "      <td>2.536347</td>\n",
       "      <td>1.378155</td>\n",
       "      <td>-0.338321</td>\n",
       "      <td>0.462388</td>\n",
       "      <td>0.239599</td>\n",
       "      <td>0.098698</td>\n",
       "      <td>0.363787</td>\n",
       "      <td>...</td>\n",
       "      <td>-0.018307</td>\n",
       "      <td>0.277838</td>\n",
       "      <td>-0.110474</td>\n",
       "      <td>0.066928</td>\n",
       "      <td>0.128539</td>\n",
       "      <td>-0.189115</td>\n",
       "      <td>0.133558</td>\n",
       "      <td>-0.021053</td>\n",
       "      <td>149.62</td>\n",
       "      <td>0</td>\n",
       "    </tr>\n",
       "    <tr>\n",
       "      <th>1</th>\n",
       "      <td>0.0</td>\n",
       "      <td>1.191857</td>\n",
       "      <td>0.266151</td>\n",
       "      <td>0.166480</td>\n",
       "      <td>0.448154</td>\n",
       "      <td>0.060018</td>\n",
       "      <td>-0.082361</td>\n",
       "      <td>-0.078803</td>\n",
       "      <td>0.085102</td>\n",
       "      <td>-0.255425</td>\n",
       "      <td>...</td>\n",
       "      <td>-0.225775</td>\n",
       "      <td>-0.638672</td>\n",
       "      <td>0.101288</td>\n",
       "      <td>-0.339846</td>\n",
       "      <td>0.167170</td>\n",
       "      <td>0.125895</td>\n",
       "      <td>-0.008983</td>\n",
       "      <td>0.014724</td>\n",
       "      <td>2.69</td>\n",
       "      <td>0</td>\n",
       "    </tr>\n",
       "    <tr>\n",
       "      <th>2</th>\n",
       "      <td>1.0</td>\n",
       "      <td>-1.358354</td>\n",
       "      <td>-1.340163</td>\n",
       "      <td>1.773209</td>\n",
       "      <td>0.379780</td>\n",
       "      <td>-0.503198</td>\n",
       "      <td>1.800499</td>\n",
       "      <td>0.791461</td>\n",
       "      <td>0.247676</td>\n",
       "      <td>-1.514654</td>\n",
       "      <td>...</td>\n",
       "      <td>0.247998</td>\n",
       "      <td>0.771679</td>\n",
       "      <td>0.909412</td>\n",
       "      <td>-0.689281</td>\n",
       "      <td>-0.327642</td>\n",
       "      <td>-0.139097</td>\n",
       "      <td>-0.055353</td>\n",
       "      <td>-0.059752</td>\n",
       "      <td>378.66</td>\n",
       "      <td>0</td>\n",
       "    </tr>\n",
       "    <tr>\n",
       "      <th>3</th>\n",
       "      <td>1.0</td>\n",
       "      <td>-0.966272</td>\n",
       "      <td>-0.185226</td>\n",
       "      <td>1.792993</td>\n",
       "      <td>-0.863291</td>\n",
       "      <td>-0.010309</td>\n",
       "      <td>1.247203</td>\n",
       "      <td>0.237609</td>\n",
       "      <td>0.377436</td>\n",
       "      <td>-1.387024</td>\n",
       "      <td>...</td>\n",
       "      <td>-0.108300</td>\n",
       "      <td>0.005274</td>\n",
       "      <td>-0.190321</td>\n",
       "      <td>-1.175575</td>\n",
       "      <td>0.647376</td>\n",
       "      <td>-0.221929</td>\n",
       "      <td>0.062723</td>\n",
       "      <td>0.061458</td>\n",
       "      <td>123.50</td>\n",
       "      <td>0</td>\n",
       "    </tr>\n",
       "    <tr>\n",
       "      <th>4</th>\n",
       "      <td>2.0</td>\n",
       "      <td>-1.158233</td>\n",
       "      <td>0.877737</td>\n",
       "      <td>1.548718</td>\n",
       "      <td>0.403034</td>\n",
       "      <td>-0.407193</td>\n",
       "      <td>0.095921</td>\n",
       "      <td>0.592941</td>\n",
       "      <td>-0.270533</td>\n",
       "      <td>0.817739</td>\n",
       "      <td>...</td>\n",
       "      <td>-0.009431</td>\n",
       "      <td>0.798278</td>\n",
       "      <td>-0.137458</td>\n",
       "      <td>0.141267</td>\n",
       "      <td>-0.206010</td>\n",
       "      <td>0.502292</td>\n",
       "      <td>0.219422</td>\n",
       "      <td>0.215153</td>\n",
       "      <td>69.99</td>\n",
       "      <td>0</td>\n",
       "    </tr>\n",
       "  </tbody>\n",
       "</table>\n",
       "<p>5 rows × 31 columns</p>\n",
       "</div>"
      ],
      "text/plain": [
       "   Time        V1        V2        V3        V4        V5        V6        V7  \\\n",
       "0   0.0 -1.359807 -0.072781  2.536347  1.378155 -0.338321  0.462388  0.239599   \n",
       "1   0.0  1.191857  0.266151  0.166480  0.448154  0.060018 -0.082361 -0.078803   \n",
       "2   1.0 -1.358354 -1.340163  1.773209  0.379780 -0.503198  1.800499  0.791461   \n",
       "3   1.0 -0.966272 -0.185226  1.792993 -0.863291 -0.010309  1.247203  0.237609   \n",
       "4   2.0 -1.158233  0.877737  1.548718  0.403034 -0.407193  0.095921  0.592941   \n",
       "\n",
       "         V8        V9  ...       V21       V22       V23       V24       V25  \\\n",
       "0  0.098698  0.363787  ... -0.018307  0.277838 -0.110474  0.066928  0.128539   \n",
       "1  0.085102 -0.255425  ... -0.225775 -0.638672  0.101288 -0.339846  0.167170   \n",
       "2  0.247676 -1.514654  ...  0.247998  0.771679  0.909412 -0.689281 -0.327642   \n",
       "3  0.377436 -1.387024  ... -0.108300  0.005274 -0.190321 -1.175575  0.647376   \n",
       "4 -0.270533  0.817739  ... -0.009431  0.798278 -0.137458  0.141267 -0.206010   \n",
       "\n",
       "        V26       V27       V28  Amount  Class  \n",
       "0 -0.189115  0.133558 -0.021053  149.62      0  \n",
       "1  0.125895 -0.008983  0.014724    2.69      0  \n",
       "2 -0.139097 -0.055353 -0.059752  378.66      0  \n",
       "3 -0.221929  0.062723  0.061458  123.50      0  \n",
       "4  0.502292  0.219422  0.215153   69.99      0  \n",
       "\n",
       "[5 rows x 31 columns]"
      ]
     },
     "execution_count": 2,
     "metadata": {},
     "output_type": "execute_result"
    }
   ],
   "source": [
    "dataset = pd.read_csv('creditcard.csv')\n",
    "dataset.index.Class = None\n",
    "dataset.head()"
   ]
  },
  {
   "cell_type": "markdown",
   "metadata": {},
   "source": [
    "### Check Column & Row Contents"
   ]
  },
  {
   "cell_type": "code",
   "execution_count": 3,
   "metadata": {},
   "outputs": [
    {
     "data": {
      "text/plain": [
       "Index(['Time', 'V1', 'V2', 'V3', 'V4', 'V5', 'V6', 'V7', 'V8', 'V9', 'V10',\n",
       "       'V11', 'V12', 'V13', 'V14', 'V15', 'V16', 'V17', 'V18', 'V19', 'V20',\n",
       "       'V21', 'V22', 'V23', 'V24', 'V25', 'V26', 'V27', 'V28', 'Amount',\n",
       "       'Class'],\n",
       "      dtype='object')"
      ]
     },
     "execution_count": 3,
     "metadata": {},
     "output_type": "execute_result"
    }
   ],
   "source": [
    "dataset.columns"
   ]
  },
  {
   "cell_type": "code",
   "execution_count": 4,
   "metadata": {},
   "outputs": [
    {
     "data": {
      "text/plain": [
       "Time      float64\n",
       "V1        float64\n",
       "V2        float64\n",
       "V3        float64\n",
       "V4        float64\n",
       "V5        float64\n",
       "V6        float64\n",
       "V7        float64\n",
       "V8        float64\n",
       "V9        float64\n",
       "V10       float64\n",
       "V11       float64\n",
       "V12       float64\n",
       "V13       float64\n",
       "V14       float64\n",
       "V15       float64\n",
       "V16       float64\n",
       "V17       float64\n",
       "V18       float64\n",
       "V19       float64\n",
       "V20       float64\n",
       "V21       float64\n",
       "V22       float64\n",
       "V23       float64\n",
       "V24       float64\n",
       "V25       float64\n",
       "V26       float64\n",
       "V27       float64\n",
       "V28       float64\n",
       "Amount    float64\n",
       "Class       int64\n",
       "dtype: object"
      ]
     },
     "execution_count": 4,
     "metadata": {},
     "output_type": "execute_result"
    }
   ],
   "source": [
    "dataset.dtypes"
   ]
  },
  {
   "cell_type": "code",
   "execution_count": 5,
   "metadata": {},
   "outputs": [
    {
     "data": {
      "text/plain": [
       "Time      284807\n",
       "V1        284807\n",
       "V2        284807\n",
       "V3        284807\n",
       "V4        284807\n",
       "V5        284807\n",
       "V6        284807\n",
       "V7        284807\n",
       "V8        284807\n",
       "V9        284807\n",
       "V10       284807\n",
       "V11       284807\n",
       "V12       284807\n",
       "V13       284807\n",
       "V14       284807\n",
       "V15       284807\n",
       "V16       284807\n",
       "V17       284807\n",
       "V18       284807\n",
       "V19       284807\n",
       "V20       284807\n",
       "V21       284807\n",
       "V22       284807\n",
       "V23       284807\n",
       "V24       284807\n",
       "V25       284807\n",
       "V26       284807\n",
       "V27       284807\n",
       "V28       284807\n",
       "Amount    284807\n",
       "Class     284807\n",
       "dtype: int64"
      ]
     },
     "execution_count": 5,
     "metadata": {},
     "output_type": "execute_result"
    }
   ],
   "source": [
    "dataset.count()"
   ]
  },
  {
   "cell_type": "code",
   "execution_count": 6,
   "metadata": {},
   "outputs": [
    {
     "data": {
      "text/plain": [
       "Time      283726\n",
       "V1        283726\n",
       "V2        283726\n",
       "V3        283726\n",
       "V4        283726\n",
       "V5        283726\n",
       "V6        283726\n",
       "V7        283726\n",
       "V8        283726\n",
       "V9        283726\n",
       "V10       283726\n",
       "V11       283726\n",
       "V12       283726\n",
       "V13       283726\n",
       "V14       283726\n",
       "V15       283726\n",
       "V16       283726\n",
       "V17       283726\n",
       "V18       283726\n",
       "V19       283726\n",
       "V20       283726\n",
       "V21       283726\n",
       "V22       283726\n",
       "V23       283726\n",
       "V24       283726\n",
       "V25       283726\n",
       "V26       283726\n",
       "V27       283726\n",
       "V28       283726\n",
       "Amount    283726\n",
       "Class     283726\n",
       "dtype: int64"
      ]
     },
     "execution_count": 6,
     "metadata": {},
     "output_type": "execute_result"
    }
   ],
   "source": [
    "dataset = dataset.drop_duplicates()\n",
    "dataset.count()"
   ]
  },
  {
   "cell_type": "code",
   "execution_count": 7,
   "metadata": {},
   "outputs": [
    {
     "data": {
      "text/plain": [
       "0"
      ]
     },
     "execution_count": 7,
     "metadata": {},
     "output_type": "execute_result"
    }
   ],
   "source": [
    "dataset.isnull().values.sum()"
   ]
  },
  {
   "cell_type": "code",
   "execution_count": 8,
   "metadata": {},
   "outputs": [
    {
     "data": {
      "text/plain": [
       "float64    30\n",
       "int64       1\n",
       "dtype: int64"
      ]
     },
     "execution_count": 8,
     "metadata": {},
     "output_type": "execute_result"
    }
   ],
   "source": [
    "dataset.dtypes.value_counts()"
   ]
  },
  {
   "cell_type": "code",
   "execution_count": 9,
   "metadata": {},
   "outputs": [
    {
     "data": {
      "text/html": [
       "<div>\n",
       "<style scoped>\n",
       "    .dataframe tbody tr th:only-of-type {\n",
       "        vertical-align: middle;\n",
       "    }\n",
       "\n",
       "    .dataframe tbody tr th {\n",
       "        vertical-align: top;\n",
       "    }\n",
       "\n",
       "    .dataframe thead th {\n",
       "        text-align: right;\n",
       "    }\n",
       "</style>\n",
       "<table border=\"1\" class=\"dataframe\">\n",
       "  <thead>\n",
       "    <tr style=\"text-align: right;\">\n",
       "      <th></th>\n",
       "      <th>Time</th>\n",
       "      <th>V1</th>\n",
       "      <th>V2</th>\n",
       "      <th>V3</th>\n",
       "      <th>V4</th>\n",
       "      <th>V5</th>\n",
       "      <th>V6</th>\n",
       "      <th>V7</th>\n",
       "      <th>V8</th>\n",
       "      <th>V9</th>\n",
       "      <th>...</th>\n",
       "      <th>V21</th>\n",
       "      <th>V22</th>\n",
       "      <th>V23</th>\n",
       "      <th>V24</th>\n",
       "      <th>V25</th>\n",
       "      <th>V26</th>\n",
       "      <th>V27</th>\n",
       "      <th>V28</th>\n",
       "      <th>Amount</th>\n",
       "      <th>Class</th>\n",
       "    </tr>\n",
       "  </thead>\n",
       "  <tbody>\n",
       "    <tr>\n",
       "      <th>count</th>\n",
       "      <td>283726.000000</td>\n",
       "      <td>283726.000000</td>\n",
       "      <td>283726.000000</td>\n",
       "      <td>283726.000000</td>\n",
       "      <td>283726.000000</td>\n",
       "      <td>283726.000000</td>\n",
       "      <td>283726.000000</td>\n",
       "      <td>283726.000000</td>\n",
       "      <td>283726.000000</td>\n",
       "      <td>283726.000000</td>\n",
       "      <td>...</td>\n",
       "      <td>283726.000000</td>\n",
       "      <td>283726.000000</td>\n",
       "      <td>283726.000000</td>\n",
       "      <td>283726.000000</td>\n",
       "      <td>283726.000000</td>\n",
       "      <td>283726.000000</td>\n",
       "      <td>283726.000000</td>\n",
       "      <td>283726.000000</td>\n",
       "      <td>283726.000000</td>\n",
       "      <td>283726.000000</td>\n",
       "    </tr>\n",
       "    <tr>\n",
       "      <th>mean</th>\n",
       "      <td>94811.077600</td>\n",
       "      <td>0.005917</td>\n",
       "      <td>-0.004135</td>\n",
       "      <td>0.001613</td>\n",
       "      <td>-0.002966</td>\n",
       "      <td>0.001828</td>\n",
       "      <td>-0.001139</td>\n",
       "      <td>0.001801</td>\n",
       "      <td>-0.000854</td>\n",
       "      <td>-0.001596</td>\n",
       "      <td>...</td>\n",
       "      <td>-0.000371</td>\n",
       "      <td>-0.000015</td>\n",
       "      <td>0.000198</td>\n",
       "      <td>0.000214</td>\n",
       "      <td>-0.000232</td>\n",
       "      <td>0.000149</td>\n",
       "      <td>0.001763</td>\n",
       "      <td>0.000547</td>\n",
       "      <td>88.472687</td>\n",
       "      <td>0.001667</td>\n",
       "    </tr>\n",
       "    <tr>\n",
       "      <th>std</th>\n",
       "      <td>47481.047891</td>\n",
       "      <td>1.948026</td>\n",
       "      <td>1.646703</td>\n",
       "      <td>1.508682</td>\n",
       "      <td>1.414184</td>\n",
       "      <td>1.377008</td>\n",
       "      <td>1.331931</td>\n",
       "      <td>1.227664</td>\n",
       "      <td>1.179054</td>\n",
       "      <td>1.095492</td>\n",
       "      <td>...</td>\n",
       "      <td>0.723909</td>\n",
       "      <td>0.724550</td>\n",
       "      <td>0.623702</td>\n",
       "      <td>0.605627</td>\n",
       "      <td>0.521220</td>\n",
       "      <td>0.482053</td>\n",
       "      <td>0.395744</td>\n",
       "      <td>0.328027</td>\n",
       "      <td>250.399437</td>\n",
       "      <td>0.040796</td>\n",
       "    </tr>\n",
       "    <tr>\n",
       "      <th>min</th>\n",
       "      <td>0.000000</td>\n",
       "      <td>-56.407510</td>\n",
       "      <td>-72.715728</td>\n",
       "      <td>-48.325589</td>\n",
       "      <td>-5.683171</td>\n",
       "      <td>-113.743307</td>\n",
       "      <td>-26.160506</td>\n",
       "      <td>-43.557242</td>\n",
       "      <td>-73.216718</td>\n",
       "      <td>-13.434066</td>\n",
       "      <td>...</td>\n",
       "      <td>-34.830382</td>\n",
       "      <td>-10.933144</td>\n",
       "      <td>-44.807735</td>\n",
       "      <td>-2.836627</td>\n",
       "      <td>-10.295397</td>\n",
       "      <td>-2.604551</td>\n",
       "      <td>-22.565679</td>\n",
       "      <td>-15.430084</td>\n",
       "      <td>0.000000</td>\n",
       "      <td>0.000000</td>\n",
       "    </tr>\n",
       "    <tr>\n",
       "      <th>25%</th>\n",
       "      <td>54204.750000</td>\n",
       "      <td>-0.915951</td>\n",
       "      <td>-0.600321</td>\n",
       "      <td>-0.889682</td>\n",
       "      <td>-0.850134</td>\n",
       "      <td>-0.689830</td>\n",
       "      <td>-0.769031</td>\n",
       "      <td>-0.552509</td>\n",
       "      <td>-0.208828</td>\n",
       "      <td>-0.644221</td>\n",
       "      <td>...</td>\n",
       "      <td>-0.228305</td>\n",
       "      <td>-0.542700</td>\n",
       "      <td>-0.161703</td>\n",
       "      <td>-0.354453</td>\n",
       "      <td>-0.317485</td>\n",
       "      <td>-0.326763</td>\n",
       "      <td>-0.070641</td>\n",
       "      <td>-0.052818</td>\n",
       "      <td>5.600000</td>\n",
       "      <td>0.000000</td>\n",
       "    </tr>\n",
       "    <tr>\n",
       "      <th>50%</th>\n",
       "      <td>84692.500000</td>\n",
       "      <td>0.020384</td>\n",
       "      <td>0.063949</td>\n",
       "      <td>0.179963</td>\n",
       "      <td>-0.022248</td>\n",
       "      <td>-0.053468</td>\n",
       "      <td>-0.275168</td>\n",
       "      <td>0.040859</td>\n",
       "      <td>0.021898</td>\n",
       "      <td>-0.052596</td>\n",
       "      <td>...</td>\n",
       "      <td>-0.029441</td>\n",
       "      <td>0.006675</td>\n",
       "      <td>-0.011159</td>\n",
       "      <td>0.041016</td>\n",
       "      <td>0.016278</td>\n",
       "      <td>-0.052172</td>\n",
       "      <td>0.001479</td>\n",
       "      <td>0.011288</td>\n",
       "      <td>22.000000</td>\n",
       "      <td>0.000000</td>\n",
       "    </tr>\n",
       "    <tr>\n",
       "      <th>75%</th>\n",
       "      <td>139298.000000</td>\n",
       "      <td>1.316068</td>\n",
       "      <td>0.800283</td>\n",
       "      <td>1.026960</td>\n",
       "      <td>0.739647</td>\n",
       "      <td>0.612218</td>\n",
       "      <td>0.396792</td>\n",
       "      <td>0.570474</td>\n",
       "      <td>0.325704</td>\n",
       "      <td>0.595977</td>\n",
       "      <td>...</td>\n",
       "      <td>0.186194</td>\n",
       "      <td>0.528245</td>\n",
       "      <td>0.147748</td>\n",
       "      <td>0.439738</td>\n",
       "      <td>0.350667</td>\n",
       "      <td>0.240261</td>\n",
       "      <td>0.091208</td>\n",
       "      <td>0.078276</td>\n",
       "      <td>77.510000</td>\n",
       "      <td>0.000000</td>\n",
       "    </tr>\n",
       "    <tr>\n",
       "      <th>max</th>\n",
       "      <td>172792.000000</td>\n",
       "      <td>2.454930</td>\n",
       "      <td>22.057729</td>\n",
       "      <td>9.382558</td>\n",
       "      <td>16.875344</td>\n",
       "      <td>34.801666</td>\n",
       "      <td>73.301626</td>\n",
       "      <td>120.589494</td>\n",
       "      <td>20.007208</td>\n",
       "      <td>15.594995</td>\n",
       "      <td>...</td>\n",
       "      <td>27.202839</td>\n",
       "      <td>10.503090</td>\n",
       "      <td>22.528412</td>\n",
       "      <td>4.584549</td>\n",
       "      <td>7.519589</td>\n",
       "      <td>3.517346</td>\n",
       "      <td>31.612198</td>\n",
       "      <td>33.847808</td>\n",
       "      <td>25691.160000</td>\n",
       "      <td>1.000000</td>\n",
       "    </tr>\n",
       "  </tbody>\n",
       "</table>\n",
       "<p>8 rows × 31 columns</p>\n",
       "</div>"
      ],
      "text/plain": [
       "                Time             V1             V2             V3  \\\n",
       "count  283726.000000  283726.000000  283726.000000  283726.000000   \n",
       "mean    94811.077600       0.005917      -0.004135       0.001613   \n",
       "std     47481.047891       1.948026       1.646703       1.508682   \n",
       "min         0.000000     -56.407510     -72.715728     -48.325589   \n",
       "25%     54204.750000      -0.915951      -0.600321      -0.889682   \n",
       "50%     84692.500000       0.020384       0.063949       0.179963   \n",
       "75%    139298.000000       1.316068       0.800283       1.026960   \n",
       "max    172792.000000       2.454930      22.057729       9.382558   \n",
       "\n",
       "                  V4             V5             V6             V7  \\\n",
       "count  283726.000000  283726.000000  283726.000000  283726.000000   \n",
       "mean       -0.002966       0.001828      -0.001139       0.001801   \n",
       "std         1.414184       1.377008       1.331931       1.227664   \n",
       "min        -5.683171    -113.743307     -26.160506     -43.557242   \n",
       "25%        -0.850134      -0.689830      -0.769031      -0.552509   \n",
       "50%        -0.022248      -0.053468      -0.275168       0.040859   \n",
       "75%         0.739647       0.612218       0.396792       0.570474   \n",
       "max        16.875344      34.801666      73.301626     120.589494   \n",
       "\n",
       "                  V8             V9  ...            V21            V22  \\\n",
       "count  283726.000000  283726.000000  ...  283726.000000  283726.000000   \n",
       "mean       -0.000854      -0.001596  ...      -0.000371      -0.000015   \n",
       "std         1.179054       1.095492  ...       0.723909       0.724550   \n",
       "min       -73.216718     -13.434066  ...     -34.830382     -10.933144   \n",
       "25%        -0.208828      -0.644221  ...      -0.228305      -0.542700   \n",
       "50%         0.021898      -0.052596  ...      -0.029441       0.006675   \n",
       "75%         0.325704       0.595977  ...       0.186194       0.528245   \n",
       "max        20.007208      15.594995  ...      27.202839      10.503090   \n",
       "\n",
       "                 V23            V24            V25            V26  \\\n",
       "count  283726.000000  283726.000000  283726.000000  283726.000000   \n",
       "mean        0.000198       0.000214      -0.000232       0.000149   \n",
       "std         0.623702       0.605627       0.521220       0.482053   \n",
       "min       -44.807735      -2.836627     -10.295397      -2.604551   \n",
       "25%        -0.161703      -0.354453      -0.317485      -0.326763   \n",
       "50%        -0.011159       0.041016       0.016278      -0.052172   \n",
       "75%         0.147748       0.439738       0.350667       0.240261   \n",
       "max        22.528412       4.584549       7.519589       3.517346   \n",
       "\n",
       "                 V27            V28         Amount          Class  \n",
       "count  283726.000000  283726.000000  283726.000000  283726.000000  \n",
       "mean        0.001763       0.000547      88.472687       0.001667  \n",
       "std         0.395744       0.328027     250.399437       0.040796  \n",
       "min       -22.565679     -15.430084       0.000000       0.000000  \n",
       "25%        -0.070641      -0.052818       5.600000       0.000000  \n",
       "50%         0.001479       0.011288      22.000000       0.000000  \n",
       "75%         0.091208       0.078276      77.510000       0.000000  \n",
       "max        31.612198      33.847808   25691.160000       1.000000  \n",
       "\n",
       "[8 rows x 31 columns]"
      ]
     },
     "execution_count": 9,
     "metadata": {},
     "output_type": "execute_result"
    }
   ],
   "source": [
    "dataset.describe()"
   ]
  },
  {
   "cell_type": "code",
   "execution_count": 10,
   "metadata": {},
   "outputs": [
    {
     "data": {
      "image/png": "[encoded data removed]",
      "text/plain": [
       "<Figure size 1440x360 with 2 Axes>"
      ]
     },
     "metadata": {
      "needs_background": "light"
     },
     "output_type": "display_data"
    }
   ],
   "source": [
    "cols = ['Amount', 'Time']\n",
    "f, axes = plt.subplots(1, 2, figsize=(20, 5), sharex=True)\n",
    "for index,col in enumerate(cols):\n",
    "    sns.boxplot(x=\"Class\", y=col, hue=\"Class\", palette=\"colorblind\", data=dataset, ax=axes[index]) \n",
    "    sns.stripplot(x='Class', y=col,  data=dataset,dodge=True,jitter=True,marker='o',ax=axes[index],alpha=0.5,color='grey',hue='Class')\n",
    "plt.show()\n",
    "plt.clf()\n",
    "plt.close()"
   ]
  },
  {
   "cell_type": "code",
   "execution_count": 11,
   "metadata": {},
   "outputs": [
    {
     "data": {
      "text/plain": [
       "<AxesSubplot:xlabel='Amount', ylabel='Class'>"
      ]
     },
     "execution_count": 11,
     "metadata": {},
     "output_type": "execute_result"
    },
    {
     "data": {
      "image/png": "[encoded data removed]",
      "text/plain": [
       "<Figure size 432x288 with 1 Axes>"
      ]
     },
     "metadata": {
      "needs_background": "light"
     },
     "output_type": "display_data"
    }
   ],
   "source": [
    "sns.scatterplot(x=\"Amount\", y=\"Class\",data=dataset)"
   ]
  },
  {
   "cell_type": "code",
   "execution_count": 12,
   "metadata": {},
   "outputs": [
    {
     "data": {
      "text/plain": [
       "<AxesSubplot:>"
      ]
     },
     "execution_count": 12,
     "metadata": {},
     "output_type": "execute_result"
    },
    {
     "data": {
      "image/png": "[encoded data removed]",
      "text/plain": [
       "<Figure size 1080x576 with 2 Axes>"
      ]
     },
     "metadata": {
      "needs_background": "light"
     },
     "output_type": "display_data"
    }
   ],
   "source": [
    "f, ax = plt.subplots(figsize=(15, 8))\n",
    "corr = dataset.corr()\n",
    "sns.heatmap(corr,\n",
    "            xticklabels=corr.columns.values,\n",
    "            yticklabels=corr.columns.values)"
   ]
  },
  {
   "cell_type": "markdown",
   "metadata": {},
   "source": [
    "### Separating Label and Features\n",
    "<p>X for all features and y for consecutive labels </p>"
   ]
  },
  {
   "cell_type": "code",
   "execution_count": 13,
   "metadata": {},
   "outputs": [],
   "source": [
    "X = dataset.iloc[:,:-1].values\n",
    "y = dataset.iloc[:,30].values"
   ]
  },
  {
   "cell_type": "markdown",
   "metadata": {},
   "source": [
    "### Separating Test and Train Data"
   ]
  },
  {
   "cell_type": "code",
   "execution_count": 14,
   "metadata": {},
   "outputs": [],
   "source": [
    "X_train_raw, X_test_raw, y_train_raw, y_test_raw = train_test_split(X, y, test_size = 0.3)"
   ]
  },
  {
   "cell_type": "markdown",
   "metadata": {},
   "source": [
    "### Checking with imbalance dataset"
   ]
  },
  {
   "cell_type": "code",
   "execution_count": 15,
   "metadata": {},
   "outputs": [
    {
     "name": "stdout",
     "output_type": "stream",
     "text": [
      "Accuracy score: 99.83\n"
     ]
    }
   ],
   "source": [
    "clf_knn_raw = KNeighborsClassifier(n_neighbors=32)\n",
    "knn_fit_raw = clf_knn_raw.fit(X_train_raw, y_train_raw)\n",
    "knn_predict_raw = clf_knn_raw.predict(X_test_raw)\n",
    "\n",
    "knn_accuracy_score_raw = accuracy_score(y_test_raw, knn_predict_raw)\n",
    "print(\"Accuracy score: {:.2f}\".format(knn_accuracy_score_raw*100))"
   ]
  },
  {
   "cell_type": "code",
   "execution_count": 16,
   "metadata": {},
   "outputs": [
    {
     "name": "stdout",
     "output_type": "stream",
     "text": [
      "Accuracy score: 99.83\n"
     ]
    }
   ],
   "source": [
    "clf_mlp_raw = MLPClassifier(solver='lbfgs', alpha=1e-5,hidden_layer_sizes=(5, 2), random_state=1)\n",
    "mlp_fit_raw = clf_mlp_raw.fit(X_train_raw, y_train_raw)\n",
    "mlp_predict_raw = clf_mlp_raw.predict(X_test_raw)\n",
    "\n",
    "mlp_accuracy_score_raw = accuracy_score(y_test_raw, mlp_predict_raw)\n",
    "print(\"Accuracy score: {:.2f}\".format(mlp_accuracy_score_raw*100))"
   ]
  },
  {
   "cell_type": "code",
   "execution_count": 17,
   "metadata": {},
   "outputs": [
    {
     "name": "stdout",
     "output_type": "stream",
     "text": [
      "Accuracy score: 99.89\n"
     ]
    }
   ],
   "source": [
    "clf_rfc_raw = RandomForestClassifier(max_depth=2, random_state=1)\n",
    "rfc_fit_raw = clf_rfc_raw.fit(X_train_raw, y_train_raw)\n",
    "rfc_predict_raw = clf_rfc_raw.predict(X_test_raw)\n",
    "\n",
    "rfc_accuracy_score_raw = accuracy_score(y_test_raw, rfc_predict_raw)\n",
    "print(\"Accuracy score: {:.2f}\".format(rfc_accuracy_score_raw*100))"
   ]
  },
  {
   "cell_type": "code",
   "execution_count": 18,
   "metadata": {},
   "outputs": [
    {
     "name": "stderr",
     "output_type": "stream",
     "text": [
      "c:\\users\\raihan\\appdata\\local\\programs\\python\\python37\\lib\\site-packages\\xgboost\\sklearn.py:892: UserWarning: The use of label encoder in XGBClassifier is deprecated and will be removed in a future release. To remove this warning, do the following: 1) Pass option use_label_encoder=False when constructing XGBClassifier object; and 2) Encode your labels (y) as integers starting with 0, i.e. 0, 1, 2, ..., [num_class - 1].\n",
      "  warnings.warn(label_encoder_deprecation_msg, UserWarning)\n"
     ]
    },
    {
     "name": "stdout",
     "output_type": "stream",
     "text": [
      "[18:54:23] WARNING: C:/Users/Administrator/workspace/xgboost-win64_release_1.3.0/src/learner.cc:1061: Starting in XGBoost 1.3.0, the default evaluation metric used with the objective 'binary:logistic' was changed from 'error' to 'logloss'. Explicitly set eval_metric if you'd like to restore the old behavior.\n",
      "Accuracy score: 99.95\n"
     ]
    }
   ],
   "source": [
    "clf_xgb_raw = XGBClassifier()\n",
    "xgb_fit_raw = clf_xgb_raw.fit(X_train_raw, y_train_raw)\n",
    "xgb_predict_raw = clf_xgb_raw.predict(X_test_raw)\n",
    "\n",
    "xgb_accuracy_score_raw = accuracy_score(y_test_raw, xgb_predict_raw)\n",
    "print(\"Accuracy score: {:.2f}\".format(xgb_accuracy_score_raw*100))"
   ]
  },
  {
   "cell_type": "markdown",
   "metadata": {},
   "source": [
    "### Undersampling with minority class"
   ]
  },
  {
   "cell_type": "code",
   "execution_count": 40,
   "metadata": {},
   "outputs": [],
   "source": [
    "data_group = dataset.groupby('Class')\n",
    "dataset_undersampled_with_minority_class = data_group.apply(lambda x: x.sample(data_group.size().min()).reset_index(drop=True))\n",
    "\n",
    "X_undersampled_with_minority_class = dataset_undersampled_with_minority_class.iloc[:,:-1].values\n",
    "y_undersampled_with_minority_class = dataset_undersampled_with_minority_class.iloc[:,30].values\n",
    "\n",
    "X_train_undersampled_with_minority_class, X_test_undersampled_with_minority_class, y_train_undersampled_with_minority_class, y_test_undersampled_with_minority_class = train_test_split(X_undersampled_with_minority_class, y_undersampled_with_minority_class, test_size = 0.3)"
   ]
  },
  {
   "cell_type": "markdown",
   "metadata": {},
   "source": [
    "### Checking with balance dataset"
   ]
  },
  {
   "cell_type": "code",
   "execution_count": 41,
   "metadata": {},
   "outputs": [
    {
     "name": "stdout",
     "output_type": "stream",
     "text": [
      "Accuracy score: 64.08\n"
     ]
    }
   ],
   "source": [
    "clf_knn_undersampled_with_minority_class = KNeighborsClassifier(n_neighbors=32)\n",
    "knn_fit_undersampled_with_minority_class = clf_knn_undersampled_with_minority_class.fit(X_train_undersampled_with_minority_class, y_train_undersampled_with_minority_class)\n",
    "knn_predict_undersampled_with_minority_class = clf_knn_undersampled_with_minority_class.predict(X_test_undersampled_with_minority_class)\n",
    "\n",
    "knn_accuracy_score_undersampled_with_minority_class = accuracy_score(y_test_undersampled_with_minority_class, knn_predict_undersampled_with_minority_class)\n",
    "print(\"Accuracy score: {:.2f}\".format(knn_accuracy_score_undersampled_with_minority_class*100))"
   ]
  },
  {
   "cell_type": "code",
   "execution_count": 42,
   "metadata": {},
   "outputs": [
    {
     "name": "stdout",
     "output_type": "stream",
     "text": [
      "Accuracy score: 48.24\n"
     ]
    }
   ],
   "source": [
    "clf_mlp_undersampled_with_minority_class = MLPClassifier(solver='lbfgs', alpha=1e-5,hidden_layer_sizes=(5, 2), random_state=1)\n",
    "mlp_fit_undersampled_with_minority_class = clf_mlp_undersampled_with_minority_class.fit(X_train_undersampled_with_minority_class, y_train_undersampled_with_minority_class)\n",
    "mlp_predict_undersampled_with_minority_class = clf_mlp_undersampled_with_minority_class.predict(X_test_undersampled_with_minority_class)\n",
    "\n",
    "mlp_accuracy_score_undersampled_with_minority_class = accuracy_score(y_test_undersampled_with_minority_class, mlp_predict_undersampled_with_minority_class)\n",
    "print(\"Accuracy score: {:.2f}\".format(mlp_accuracy_score_undersampled_with_minority_class*100))"
   ]
  },
  {
   "cell_type": "code",
   "execution_count": 43,
   "metadata": {},
   "outputs": [
    {
     "name": "stdout",
     "output_type": "stream",
     "text": [
      "Accuracy score: 91.55\n"
     ]
    }
   ],
   "source": [
    "clf_rfc_undersampled_with_minority_class = RandomForestClassifier(max_depth=2, random_state=1)\n",
    "rfc_fit_undersampled_with_minority_class = clf_rfc_undersampled_with_minority_class.fit(X_train_undersampled_with_minority_class, y_train_undersampled_with_minority_class)\n",
    "rfc_predict_undersampled_with_minority_class = clf_rfc_undersampled_with_minority_class.predict(X_test_undersampled_with_minority_class)\n",
    "\n",
    "rfc_accuracy_score_undersampled_with_minority_class = accuracy_score(y_test_undersampled_with_minority_class, rfc_predict_undersampled_with_minority_class)\n",
    "print(\"Accuracy score: {:.2f}\".format(rfc_accuracy_score_undersampled_with_minority_class*100))"
   ]
  },
  {
   "cell_type": "code",
   "execution_count": 38,
   "metadata": {},
   "outputs": [
    {
     "name": "stdout",
     "output_type": "stream",
     "text": [
      "[19:02:34] WARNING: C:/Users/Administrator/workspace/xgboost-win64_release_1.3.0/src/learner.cc:1061: Starting in XGBoost 1.3.0, the default evaluation metric used with the objective 'binary:logistic' was changed from 'error' to 'logloss'. Explicitly set eval_metric if you'd like to restore the old behavior.\n",
      "Accuracy score: 94.01\n"
     ]
    }
   ],
   "source": [
    "clf_xgb_undersampled_with_minority_class = XGBClassifier()\n",
    "xgb_fit_undersampled_with_minority_class = clf_xgb_undersampled_with_minority_class.fit(X_train_undersampled_with_minority_class, y_train_undersampled_with_minority_class)\n",
    "xgb_predict_undersampled_with_minority_class = clf_xgb_undersampled_with_minority_class.predict(X_test_undersampled_with_minority_class)\n",
    "\n",
    "xgb_accuracy_score_undersampled_with_minority_class = accuracy_score(y_test_undersampled_with_minority_class, xgb_predict_undersampled_with_minority_class)\n",
    "print(\"Accuracy score: {:.2f}\".format(xgb_accuracy_score_undersampled_with_minority_class*100))"
   ]
  },
  {
   "cell_type": "markdown",
   "metadata": {},
   "source": [
    "### Oversampling with SMOTE"
   ]
  },
  {
   "cell_type": "code",
   "execution_count": 36,
   "metadata": {},
   "outputs": [],
   "source": [
    "from imblearn.over_sampling import SMOTE\n",
    "smote = SMOTE()"
   ]
  },
  {
   "cell_type": "code",
   "execution_count": 44,
   "metadata": {},
   "outputs": [],
   "source": [
    "X_oversampling_with_smote = dataset.iloc[:,:-1].values\n",
    "y_oversampling_with_smote = dataset.iloc[:,30].values\n",
    "\n",
    "X_smote, y_smote = smote.fit_sample(X_oversampling_with_smote.astype('float'), y_oversampling_with_smote)"
   ]
  },
  {
   "cell_type": "code",
   "execution_count": 46,
   "metadata": {},
   "outputs": [],
   "source": [
    "X_train_smote, X_test_smote, y_train_smote, y_test_smote = train_test_split(X_smote, y_smote, test_size = 0.3)"
   ]
  },
  {
   "cell_type": "markdown",
   "metadata": {},
   "source": [
    "### Checking with smote dataset"
   ]
  },
  {
   "cell_type": "code",
   "execution_count": 47,
   "metadata": {},
   "outputs": [
    {
     "name": "stdout",
     "output_type": "stream",
     "text": [
      "Accuracy score: 90.04\n"
     ]
    }
   ],
   "source": [
    "clf_knn_smote = KNeighborsClassifier(n_neighbors=32)\n",
    "knn_fit_smote = clf_knn_smote.fit(X_train_smote, y_train_smote)\n",
    "knn_predict_smote = clf_knn_smote.predict(X_test_smote)\n",
    "\n",
    "knn_accuracy_score_smote = accuracy_score(y_test_smote, knn_predict_smote)\n",
    "print(\"Accuracy score: {:.2f}\".format(knn_accuracy_score_smote*100))"
   ]
  },
  {
   "cell_type": "code",
   "execution_count": 48,
   "metadata": {},
   "outputs": [
    {
     "name": "stdout",
     "output_type": "stream",
     "text": [
      "Accuracy score: 49.89\n"
     ]
    }
   ],
   "source": [
    "clf_mlp_smote = MLPClassifier(solver='lbfgs', alpha=1e-5,hidden_layer_sizes=(5, 2), random_state=1)\n",
    "mlp_fit_smote = clf_mlp_smote.fit(X_train_smote, y_train_smote)\n",
    "mlp_predict_smote = clf_mlp_smote.predict(X_test_smote)\n",
    "\n",
    "mlp_accuracy_score_smote = accuracy_score(y_test_smote, mlp_predict_smote)\n",
    "print(\"Accuracy score: {:.2f}\".format(mlp_accuracy_score_smote*100))"
   ]
  },
  {
   "cell_type": "code",
   "execution_count": 49,
   "metadata": {},
   "outputs": [
    {
     "name": "stdout",
     "output_type": "stream",
     "text": [
      "Accuracy score: 95.38\n"
     ]
    }
   ],
   "source": [
    "clf_rfc_smote = RandomForestClassifier(max_depth=2, random_state=1)\n",
    "rfc_fit_smote = clf_rfc_smote.fit(X_train_smote, y_train_smote)\n",
    "rfc_predict_smote = clf_rfc_smote.predict(X_test_smote)\n",
    "\n",
    "rfc_accuracy_score_smote = accuracy_score(y_test_smote, rfc_predict_smote)\n",
    "print(\"Accuracy score: {:.2f}\".format(rfc_accuracy_score_smote*100))"
   ]
  },
  {
   "cell_type": "code",
   "execution_count": 50,
   "metadata": {
    "scrolled": true
   },
   "outputs": [
    {
     "name": "stderr",
     "output_type": "stream",
     "text": [
      "c:\\users\\raihan\\appdata\\local\\programs\\python\\python37\\lib\\site-packages\\xgboost\\sklearn.py:892: UserWarning: The use of label encoder in XGBClassifier is deprecated and will be removed in a future release. To remove this warning, do the following: 1) Pass option use_label_encoder=False when constructing XGBClassifier object; and 2) Encode your labels (y) as integers starting with 0, i.e. 0, 1, 2, ..., [num_class - 1].\n",
      "  warnings.warn(label_encoder_deprecation_msg, UserWarning)\n"
     ]
    },
    {
     "name": "stdout",
     "output_type": "stream",
     "text": [
      "[19:15:49] WARNING: C:/Users/Administrator/workspace/xgboost-win64_release_1.3.0/src/learner.cc:1061: Starting in XGBoost 1.3.0, the default evaluation metric used with the objective 'binary:logistic' was changed from 'error' to 'logloss'. Explicitly set eval_metric if you'd like to restore the old behavior.\n",
      "Accuracy score: 99.98\n"
     ]
    }
   ],
   "source": [
    "clf_xgb_smote = XGBClassifier()\n",
    "xgb_fit_smote = clf_xgb_smote.fit(X_train_smote, y_train_smote)\n",
    "xgb_predict_smote = clf_xgb_smote.predict(X_test_smote)\n",
    "\n",
    "xgb_accuracy_score_smote = accuracy_score(y_test_smote, xgb_predict_smote)\n",
    "print(\"Accuracy score: {:.2f}\".format(xgb_accuracy_score_smote*100))"
   ]
  },
  {
   "cell_type": "markdown",
   "metadata": {},
   "source": [
    "### Random Oversampling Imbalanced Datasets"
   ]
  },
  {
   "cell_type": "code",
   "execution_count": 52,
   "metadata": {},
   "outputs": [],
   "source": [
    "from imblearn.over_sampling import RandomOverSampler\n",
    "oversample = RandomOverSampler(sampling_strategy='minority')"
   ]
  },
  {
   "cell_type": "code",
   "execution_count": 54,
   "metadata": {},
   "outputs": [],
   "source": [
    "X_oversample, y_oversample = oversample.fit_resample(X, y)"
   ]
  },
  {
   "cell_type": "code",
   "execution_count": 57,
   "metadata": {},
   "outputs": [],
   "source": [
    "X_train_oversample, X_test_oversample, y_train_oversample, y_test_oversample = train_test_split(X_oversample, y_oversample, test_size = 0.3)"
   ]
  },
  {
   "cell_type": "markdown",
   "metadata": {},
   "source": [
    "### Chacking with random oversampled dataset"
   ]
  },
  {
   "cell_type": "code",
   "execution_count": 59,
   "metadata": {},
   "outputs": [
    {
     "name": "stdout",
     "output_type": "stream",
     "text": [
      "Accuracy score: 99.06\n"
     ]
    }
   ],
   "source": [
    "clf_knn_oversample = KNeighborsClassifier(n_neighbors=32)\n",
    "knn_fit_oversample = clf_knn_oversample.fit(X_train_oversample, y_train_oversample)\n",
    "knn_predict_oversample = clf_knn_oversample.predict(X_test_oversample)\n",
    "\n",
    "knn_accuracy_score_oversample = accuracy_score(y_test_oversample, knn_predict_oversample)\n",
    "print(\"Accuracy score: {:.2f}\".format(knn_accuracy_score_oversample*100))"
   ]
  },
  {
   "cell_type": "code",
   "execution_count": 60,
   "metadata": {},
   "outputs": [
    {
     "name": "stdout",
     "output_type": "stream",
     "text": [
      "Accuracy score: 50.04\n"
     ]
    }
   ],
   "source": [
    "clf_mlp_oversample = MLPClassifier(solver='lbfgs', alpha=1e-5,hidden_layer_sizes=(5, 2), random_state=1)\n",
    "mlp_fit_oversample = clf_mlp_oversample.fit(X_train_oversample, y_train_oversample)\n",
    "mlp_predict_oversample = clf_mlp_oversample.predict(X_test_oversample)\n",
    "\n",
    "mlp_accuracy_score_oversample = accuracy_score(y_test_oversample, mlp_predict_oversample)\n",
    "print(\"Accuracy score: {:.2f}\".format(mlp_accuracy_score_oversample*100))"
   ]
  },
  {
   "cell_type": "code",
   "execution_count": 61,
   "metadata": {},
   "outputs": [
    {
     "name": "stdout",
     "output_type": "stream",
     "text": [
      "Accuracy score: 92.86\n"
     ]
    }
   ],
   "source": [
    "clf_rfc_oversample = RandomForestClassifier(max_depth=2, random_state=1)\n",
    "rfc_fit_oversample = clf_rfc_oversample.fit(X_train_oversample, y_train_oversample)\n",
    "rfc_predict_oversample = clf_rfc_oversample.predict(X_test_oversample)\n",
    "\n",
    "rfc_accuracy_score_oversample = accuracy_score(y_test_oversample, rfc_predict_oversample)\n",
    "print(\"Accuracy score: {:.2f}\".format(rfc_accuracy_score_oversample*100))"
   ]
  },
  {
   "cell_type": "code",
   "execution_count": 62,
   "metadata": {},
   "outputs": [
    {
     "name": "stderr",
     "output_type": "stream",
     "text": [
      "c:\\users\\raihan\\appdata\\local\\programs\\python\\python37\\lib\\site-packages\\xgboost\\sklearn.py:892: UserWarning: The use of label encoder in XGBClassifier is deprecated and will be removed in a future release. To remove this warning, do the following: 1) Pass option use_label_encoder=False when constructing XGBClassifier object; and 2) Encode your labels (y) as integers starting with 0, i.e. 0, 1, 2, ..., [num_class - 1].\n",
      "  warnings.warn(label_encoder_deprecation_msg, UserWarning)\n"
     ]
    },
    {
     "name": "stdout",
     "output_type": "stream",
     "text": [
      "[19:33:05] WARNING: C:/Users/Administrator/workspace/xgboost-win64_release_1.3.0/src/learner.cc:1061: Starting in XGBoost 1.3.0, the default evaluation metric used with the objective 'binary:logistic' was changed from 'error' to 'logloss'. Explicitly set eval_metric if you'd like to restore the old behavior.\n",
      "Accuracy score: 99.99\n"
     ]
    }
   ],
   "source": [
    "clf_xgb_oversample = XGBClassifier()\n",
    "xgb_fit_oversample = clf_xgb_oversample.fit(X_train_oversample, y_train_oversample)\n",
    "xgb_predict_oversample = clf_xgb_oversample.predict(X_test_oversample)\n",
    "\n",
    "xgb_accuracy_score_oversample = accuracy_score(y_test_oversample, xgb_predict_oversample)\n",
    "print(\"Accuracy score: {:.2f}\".format(xgb_accuracy_score_oversample*100))"
   ]
  },
  {
   "cell_type": "markdown",
   "metadata": {},
   "source": [
    "### Random Undersampling Imbalanced Datasets"
   ]
  },
  {
   "cell_type": "code",
   "execution_count": 64,
   "metadata": {},
   "outputs": [],
   "source": [
    "from imblearn.under_sampling import RandomUnderSampler\n",
    "undersample = RandomUnderSampler(sampling_strategy='majority')"
   ]
  },
  {
   "cell_type": "code",
   "execution_count": 65,
   "metadata": {},
   "outputs": [],
   "source": [
    "X_undersample, y_undersample = undersample.fit_resample(X, y)"
   ]
  },
  {
   "cell_type": "code",
   "execution_count": 71,
   "metadata": {},
   "outputs": [],
   "source": [
    "X_train_undersample, X_test_undersample, y_train_undersample, y_test_undersample = train_test_split(X_undersample, y_undersample, test_size = 0.3)"
   ]
  },
  {
   "cell_type": "markdown",
   "metadata": {},
   "source": [
    "### Chacking with random undersampled dataset"
   ]
  },
  {
   "cell_type": "code",
   "execution_count": 67,
   "metadata": {},
   "outputs": [
    {
     "name": "stdout",
     "output_type": "stream",
     "text": [
      "Accuracy score: 62.32\n"
     ]
    }
   ],
   "source": [
    "clf_knn_undersample = KNeighborsClassifier(n_neighbors=32)\n",
    "knn_fit_undersample = clf_knn_undersample.fit(X_train_undersample, y_train_undersample)\n",
    "knn_predict_undersample = clf_knn_undersample.predict(X_test_undersample)\n",
    "\n",
    "knn_accuracy_score_undersample = accuracy_score(y_test_undersample, knn_predict_undersample)\n",
    "print(\"Accuracy score: {:.2f}\".format(knn_accuracy_score_undersample*100))"
   ]
  },
  {
   "cell_type": "code",
   "execution_count": 68,
   "metadata": {},
   "outputs": [
    {
     "name": "stdout",
     "output_type": "stream",
     "text": [
      "Accuracy score: 48.94\n"
     ]
    }
   ],
   "source": [
    "clf_mlp_undersample = MLPClassifier(solver='lbfgs', alpha=1e-5,hidden_layer_sizes=(5, 2), random_state=1)\n",
    "mlp_fit_undersample = clf_mlp_undersample.fit(X_train_undersample, y_train_undersample)\n",
    "mlp_predict_undersample = clf_mlp_undersample.predict(X_test_undersample)\n",
    "\n",
    "mlp_accuracy_score_undersample = accuracy_score(y_test_undersample, mlp_predict_undersample)\n",
    "print(\"Accuracy score: {:.2f}\".format(mlp_accuracy_score_undersample*100))"
   ]
  },
  {
   "cell_type": "code",
   "execution_count": 69,
   "metadata": {},
   "outputs": [
    {
     "name": "stdout",
     "output_type": "stream",
     "text": [
      "Accuracy score: 92.25\n"
     ]
    }
   ],
   "source": [
    "clf_rfc_undersample = RandomForestClassifier(max_depth=2, random_state=1)\n",
    "rfc_fit_undersample = clf_rfc_undersample.fit(X_train_undersample, y_train_undersample)\n",
    "rfc_predict_undersample = clf_rfc_undersample.predict(X_test_undersample)\n",
    "\n",
    "rfc_accuracy_score_undersample = accuracy_score(y_test_undersample, rfc_predict_undersample)\n",
    "print(\"Accuracy score: {:.2f}\".format(rfc_accuracy_score_undersample*100))"
   ]
  },
  {
   "cell_type": "code",
   "execution_count": 70,
   "metadata": {},
   "outputs": [
    {
     "name": "stderr",
     "output_type": "stream",
     "text": [
      "c:\\users\\raihan\\appdata\\local\\programs\\python\\python37\\lib\\site-packages\\xgboost\\sklearn.py:892: UserWarning: The use of label encoder in XGBClassifier is deprecated and will be removed in a future release. To remove this warning, do the following: 1) Pass option use_label_encoder=False when constructing XGBClassifier object; and 2) Encode your labels (y) as integers starting with 0, i.e. 0, 1, 2, ..., [num_class - 1].\n",
      "  warnings.warn(label_encoder_deprecation_msg, UserWarning)\n"
     ]
    },
    {
     "name": "stdout",
     "output_type": "stream",
     "text": [
      "[19:39:44] WARNING: C:/Users/Administrator/workspace/xgboost-win64_release_1.3.0/src/learner.cc:1061: Starting in XGBoost 1.3.0, the default evaluation metric used with the objective 'binary:logistic' was changed from 'error' to 'logloss'. Explicitly set eval_metric if you'd like to restore the old behavior.\n",
      "Accuracy score: 92.96\n"
     ]
    }
   ],
   "source": [
    "clf_xgb_undersample = XGBClassifier()\n",
    "xgb_fit_undersample = clf_xgb_undersample.fit(X_train_undersample, y_train_undersample)\n",
    "xgb_predict_undersample = clf_xgb_undersample.predict(X_test_undersample)\n",
    "\n",
    "xgb_accuracy_score_undersample = accuracy_score(y_test_undersample, xgb_predict_undersample)\n",
    "print(\"Accuracy score: {:.2f}\".format(xgb_accuracy_score_undersample*100))"
   ]
  },
  {
   "cell_type": "markdown",
   "metadata": {},
   "source": [
    "### Summary"
   ]
  },
  {
   "cell_type": "code",
   "execution_count": 78,
   "metadata": {},
   "outputs": [
    {
     "name": "stdout",
     "output_type": "stream",
     "text": [
      "Accuracy score: 0.998\n",
      "Recall score: 0.000\n",
      "F1 score: 0.000\n",
      "Precision score: 0.000\n"
     ]
    }
   ],
   "source": [
    "#Without resampling\n",
    "knn_accuracy_score_raw = accuracy_score(y_test_raw, knn_predict_raw)\n",
    "knn_recall_score_raw = recall_score(y_test_raw, knn_predict_raw)\n",
    "knn_f1_score_raw = f1_score(y_test_raw, knn_predict_raw)\n",
    "knn_precision_score_raw = precision_score(y_test_raw, knn_predict_raw)\n",
    "\n",
    "print(\"Accuracy score: {:.3f}\".format(knn_accuracy_score_raw))\n",
    "print(\"Recall score: {:.3f}\".format(knn_recall_score_raw))\n",
    "print(\"F1 score: {:.3f}\".format(knn_f1_score_raw))\n",
    "print(\"Precision score: {:.3f}\".format(knn_precision_score_raw))"
   ]
  },
  {
   "cell_type": "code",
   "execution_count": 79,
   "metadata": {},
   "outputs": [
    {
     "name": "stdout",
     "output_type": "stream",
     "text": [
      "Accuracy score: 0.998\n",
      "Recall score: 0.000\n",
      "F1 score: 0.000\n",
      "Precision score: 0.000\n"
     ]
    }
   ],
   "source": [
    "#Without resampling\n",
    "mlp_accuracy_score_raw = accuracy_score(y_test_raw, mlp_predict_raw)\n",
    "mlp_recall_score_raw = recall_score(y_test_raw, mlp_predict_raw)\n",
    "mlp_f1_score_raw = f1_score(y_test_raw, mlp_predict_raw)\n",
    "mlp_precision_score_raw = precision_score(y_test_raw, mlp_predict_raw)\n",
    "\n",
    "print(\"Accuracy score: {:.3f}\".format(mlp_accuracy_score_raw))\n",
    "print(\"Recall score: {:.3f}\".format(mlp_recall_score_raw))\n",
    "print(\"F1 score: {:.3f}\".format(mlp_f1_score_raw))\n",
    "print(\"Precision score: {:.3f}\".format(mlp_precision_score_raw))"
   ]
  },
  {
   "cell_type": "code",
   "execution_count": 80,
   "metadata": {},
   "outputs": [
    {
     "name": "stdout",
     "output_type": "stream",
     "text": [
      "Accuracy score: 0.999\n",
      "Recall score: 0.459\n",
      "F1 score: 0.593\n",
      "Precision score: 0.838\n"
     ]
    }
   ],
   "source": [
    "#Without resampling\n",
    "rfc_accuracy_score_raw = accuracy_score(y_test_raw, rfc_predict_raw)\n",
    "rfc_recall_score_raw = recall_score(y_test_raw, rfc_predict_raw)\n",
    "rfc_f1_score_raw = f1_score(y_test_raw, rfc_predict_raw)\n",
    "rfc_precision_score_raw = precision_score(y_test_raw, rfc_predict_raw)\n",
    "\n",
    "print(\"Accuracy score: {:.3f}\".format(rfc_accuracy_score_raw))\n",
    "print(\"Recall score: {:.3f}\".format(rfc_recall_score_raw))\n",
    "print(\"F1 score: {:.3f}\".format(rfc_f1_score_raw))\n",
    "print(\"Precision score: {:.3f}\".format(rfc_precision_score_raw))"
   ]
  },
  {
   "cell_type": "code",
   "execution_count": 81,
   "metadata": {},
   "outputs": [
    {
     "name": "stdout",
     "output_type": "stream",
     "text": [
      "Accuracy score: 1.000\n",
      "Recall score: 0.747\n",
      "F1 score: 0.838\n",
      "Precision score: 0.956\n"
     ]
    }
   ],
   "source": [
    "#Without resampling\n",
    "xgb_accuracy_score_raw = accuracy_score(y_test_raw, xgb_predict_raw)\n",
    "xgb_recall_score_raw = recall_score(y_test_raw, xgb_predict_raw)\n",
    "xgb_f1_score_raw = f1_score(y_test_raw, xgb_predict_raw)\n",
    "xgb_precision_score_raw = precision_score(y_test_raw, xgb_predict_raw)\n",
    "\n",
    "print(\"Accuracy score: {:.3f}\".format(xgb_accuracy_score_raw))\n",
    "print(\"Recall score: {:.3f}\".format(xgb_recall_score_raw))\n",
    "print(\"F1 score: {:.3f}\".format(xgb_f1_score_raw))\n",
    "print(\"Precision score: {:.3f}\".format(xgb_precision_score_raw))"
   ]
  },
  {
   "cell_type": "code",
   "execution_count": 102,
   "metadata": {},
   "outputs": [
    {
     "name": "stdout",
     "output_type": "stream",
     "text": [
      "Accuracy score: 0.641\n",
      "Recall score: 0.547\n",
      "F1 score: 0.595\n",
      "Precision score: 0.652\n"
     ]
    }
   ],
   "source": [
    "#Undersampled with minority class\n",
    "knn_accuracy_score_undersampled_with_minority_class = accuracy_score(y_test_undersampled_with_minority_class, knn_predict_undersampled_with_minority_class)\n",
    "knn_recall_score_undersampled_with_minority_class = recall_score(y_test_undersampled_with_minority_class, knn_predict_undersampled_with_minority_class)\n",
    "knn_f1_score_undersampled_with_minority_class = f1_score(y_test_undersampled_with_minority_class, knn_predict_undersampled_with_minority_class)\n",
    "knn_precision_score_undersampled_with_minority_class = precision_score(y_test_undersampled_with_minority_class, knn_predict_undersampled_with_minority_class)\n",
    "print(\"Accuracy score: {:.3f}\".format(knn_accuracy_score_undersampled_with_minority_class))\n",
    "print(\"Recall score: {:.3f}\".format(knn_recall_score_undersampled_with_minority_class))\n",
    "print(\"F1 score: {:.3f}\".format(knn_f1_score_undersampled_with_minority_class))\n",
    "print(\"Precision score: {:.3f}\".format(knn_precision_score_undersampled_with_minority_class))"
   ]
  },
  {
   "cell_type": "code",
   "execution_count": 103,
   "metadata": {},
   "outputs": [
    {
     "name": "stdout",
     "output_type": "stream",
     "text": [
      "Accuracy score: 0.482\n",
      "Recall score: 1.000\n",
      "F1 score: 0.651\n",
      "Precision score: 0.482\n"
     ]
    }
   ],
   "source": [
    "#Undersampled with minority class\n",
    "mlp_accuracy_score_undersampled_with_minority_class = accuracy_score(y_test_undersampled_with_minority_class, mlp_predict_undersampled_with_minority_class)\n",
    "mlp_recall_score_undersampled_with_minority_class = recall_score(y_test_undersampled_with_minority_class, mlp_predict_undersampled_with_minority_class)\n",
    "mlp_f1_score_undersampled_with_minority_class = f1_score(y_test_undersampled_with_minority_class, mlp_predict_undersampled_with_minority_class)\n",
    "mlp_precision_score_undersampled_with_minority_class = precision_score(y_test_undersampled_with_minority_class, mlp_predict_undersampled_with_minority_class)\n",
    "print(\"Accuracy score: {:.3f}\".format(mlp_accuracy_score_undersampled_with_minority_class))\n",
    "print(\"Recall score: {:.3f}\".format(mlp_recall_score_undersampled_with_minority_class))\n",
    "print(\"F1 score: {:.3f}\".format(mlp_f1_score_undersampled_with_minority_class))\n",
    "print(\"Precision score: {:.3f}\".format(mlp_precision_score_undersampled_with_minority_class))"
   ]
  },
  {
   "cell_type": "code",
   "execution_count": 104,
   "metadata": {},
   "outputs": [
    {
     "name": "stdout",
     "output_type": "stream",
     "text": [
      "Accuracy score: 0.915\n",
      "Recall score: 0.825\n",
      "F1 score: 0.904\n",
      "Precision score: 1.000\n"
     ]
    }
   ],
   "source": [
    "#Undersampled with minority class\n",
    "rfc_accuracy_score_undersampled_with_minority_class = accuracy_score(y_test_undersampled_with_minority_class, rfc_predict_undersampled_with_minority_class)\n",
    "rfc_recall_score_undersampled_with_minority_class = recall_score(y_test_undersampled_with_minority_class, rfc_predict_undersampled_with_minority_class)\n",
    "rfc_f1_score_undersampled_with_minority_class = f1_score(y_test_undersampled_with_minority_class, rfc_predict_undersampled_with_minority_class)\n",
    "rfc_precision_score_undersampled_with_minority_class = precision_score(y_test_undersampled_with_minority_class, rfc_predict_undersampled_with_minority_class)\n",
    "print(\"Accuracy score: {:.3f}\".format(rfc_accuracy_score_undersampled_with_minority_class))\n",
    "print(\"Recall score: {:.3f}\".format(rfc_recall_score_undersampled_with_minority_class))\n",
    "print(\"F1 score: {:.3f}\".format(rfc_f1_score_undersampled_with_minority_class))\n",
    "print(\"Precision score: {:.3f}\".format(rfc_precision_score_undersampled_with_minority_class))"
   ]
  },
  {
   "cell_type": "code",
   "execution_count": 105,
   "metadata": {},
   "outputs": [
    {
     "name": "stdout",
     "output_type": "stream",
     "text": [
      "Accuracy score: 0.496\n",
      "Recall score: 0.474\n",
      "F1 score: 0.476\n",
      "Precision score: 0.478\n"
     ]
    }
   ],
   "source": [
    "#Undersampled with minority class\n",
    "xgb_accuracy_score_undersampled_with_minority_class = accuracy_score(y_test_undersampled_with_minority_class, xgb_predict_undersampled_with_minority_class)\n",
    "xgb_recall_score_undersampled_with_minority_class = recall_score(y_test_undersampled_with_minority_class, xgb_predict_undersampled_with_minority_class)\n",
    "xgb_f1_score_undersampled_with_minority_class = f1_score(y_test_undersampled_with_minority_class, xgb_predict_undersampled_with_minority_class)\n",
    "xgb_precision_score_undersampled_with_minority_class = precision_score(y_test_undersampled_with_minority_class, xgb_predict_undersampled_with_minority_class)\n",
    "print(\"Accuracy score: {:.3f}\".format(xgb_accuracy_score_undersampled_with_minority_class))\n",
    "print(\"Recall score: {:.3f}\".format(xgb_recall_score_undersampled_with_minority_class))\n",
    "print(\"F1 score: {:.3f}\".format(xgb_f1_score_undersampled_with_minority_class))\n",
    "print(\"Precision score: {:.3f}\".format(xgb_precision_score_undersampled_with_minority_class))"
   ]
  },
  {
   "cell_type": "code",
   "execution_count": 112,
   "metadata": {
    "scrolled": true
   },
   "outputs": [
    {
     "name": "stdout",
     "output_type": "stream",
     "text": [
      "Accuracy score: 0.991\n",
      "Recall score: 1.000\n",
      "F1 score: 0.991\n",
      "Precision score: 0.982\n"
     ]
    }
   ],
   "source": [
    "#Random Overrsampling Imbalanced Datasets\n",
    "knn_accuracy_score_oversample = accuracy_score(y_test_oversample, knn_predict_oversample)\n",
    "knn_recall_score_oversample = recall_score(y_test_oversample, knn_predict_oversample)\n",
    "knn_f1_score_oversample = f1_score(y_test_oversample, knn_predict_oversample)\n",
    "knn_precision_score_oversample = precision_score(y_test_oversample, knn_predict_oversample)\n",
    "print(\"Accuracy score: {:.3f}\".format(knn_accuracy_score_oversample))\n",
    "print(\"Recall score: {:.3f}\".format(knn_recall_score_oversample))\n",
    "print(\"F1 score: {:.3f}\".format(knn_f1_score_oversample))\n",
    "print(\"Precision score: {:.3f}\".format(knn_precision_score_oversample))"
   ]
  },
  {
   "cell_type": "code",
   "execution_count": 113,
   "metadata": {},
   "outputs": [
    {
     "name": "stdout",
     "output_type": "stream",
     "text": [
      "Accuracy score: 0.500\n",
      "Recall score: 1.000\n",
      "F1 score: 0.667\n",
      "Precision score: 0.500\n"
     ]
    }
   ],
   "source": [
    "#Random Overrsampling Imbalanced Datasets\n",
    "mlp_accuracy_score_oversample = accuracy_score(y_test_oversample, mlp_predict_oversample)\n",
    "mlp_recall_score_oversample = recall_score(y_test_oversample, mlp_predict_oversample)\n",
    "mlp_f1_score_oversample = f1_score(y_test_oversample, mlp_predict_oversample)\n",
    "mlp_precision_score_oversample = precision_score(y_test_oversample, mlp_predict_oversample)\n",
    "print(\"Accuracy score: {:.3f}\".format(mlp_accuracy_score_oversample))\n",
    "print(\"Recall score: {:.3f}\".format(mlp_recall_score_oversample))\n",
    "print(\"F1 score: {:.3f}\".format(mlp_f1_score_oversample))\n",
    "print(\"Precision score: {:.3f}\".format(mlp_precision_score_oversample))"
   ]
  },
  {
   "cell_type": "code",
   "execution_count": 114,
   "metadata": {},
   "outputs": [
    {
     "name": "stdout",
     "output_type": "stream",
     "text": [
      "Accuracy score: 0.929\n",
      "Recall score: 0.863\n",
      "F1 score: 0.924\n",
      "Precision score: 0.993\n"
     ]
    }
   ],
   "source": [
    "#Random Overrsampling Imbalanced Datasets\n",
    "rfc_accuracy_score_oversample = accuracy_score(y_test_oversample, rfc_predict_oversample)\n",
    "rfc_recall_score_oversample = recall_score(y_test_oversample, rfc_predict_oversample)\n",
    "rfc_f1_score_oversample = f1_score(y_test_oversample, rfc_predict_oversample)\n",
    "rfc_precision_score_oversample = precision_score(y_test_oversample, rfc_predict_oversample)\n",
    "print(\"Accuracy score: {:.3f}\".format(rfc_accuracy_score_oversample))\n",
    "print(\"Recall score: {:.3f}\".format(rfc_recall_score_oversample))\n",
    "print(\"F1 score: {:.3f}\".format(rfc_f1_score_oversample))\n",
    "print(\"Precision score: {:.3f}\".format(rfc_precision_score_oversample))"
   ]
  },
  {
   "cell_type": "code",
   "execution_count": 115,
   "metadata": {},
   "outputs": [
    {
     "name": "stdout",
     "output_type": "stream",
     "text": [
      "Accuracy score: 1.000\n",
      "Recall score: 1.000\n",
      "F1 score: 1.000\n",
      "Precision score: 1.000\n"
     ]
    }
   ],
   "source": [
    "#Random Overrsampling Imbalanced Datasets\n",
    "xgb_accuracy_score_oversample = accuracy_score(y_test_oversample, xgb_predict_oversample)\n",
    "xgb_recall_score_oversample = recall_score(y_test_oversample, xgb_predict_oversample)\n",
    "xgb_f1_score_oversample = f1_score(y_test_oversample, xgb_predict_oversample)\n",
    "xgb_precision_score_oversample = precision_score(y_test_oversample, xgb_predict_oversample)\n",
    "print(\"Accuracy score: {:.3f}\".format(xgb_accuracy_score_oversample))\n",
    "print(\"Recall score: {:.3f}\".format(xgb_recall_score_oversample))\n",
    "print(\"F1 score: {:.3f}\".format(xgb_f1_score_oversample))\n",
    "print(\"Precision score: {:.3f}\".format(xgb_precision_score_oversample))"
   ]
  },
  {
   "cell_type": "code",
   "execution_count": 116,
   "metadata": {},
   "outputs": [
    {
     "name": "stdout",
     "output_type": "stream",
     "text": [
      "Accuracy score: 0.479\n",
      "Recall score: 0.424\n",
      "F1 score: 0.452\n",
      "Precision score: 0.484\n"
     ]
    }
   ],
   "source": [
    "#Random Undersampling Imbalanced Datasets\n",
    "knn_accuracy_score_undersample = accuracy_score(y_test_undersample, knn_predict_undersample)\n",
    "knn_recall_score_undersample = recall_score(y_test_undersample, knn_predict_undersample)\n",
    "knn_f1_score_undersample = f1_score(y_test_undersample, knn_predict_undersample)\n",
    "knn_precision_score_undersample = precision_score(y_test_undersample, knn_predict_undersample)\n",
    "print(\"Accuracy score: {:.3f}\".format(knn_accuracy_score_undersample))\n",
    "print(\"Recall score: {:.3f}\".format(knn_recall_score_undersample))\n",
    "print(\"F1 score: {:.3f}\".format(knn_f1_score_undersample))\n",
    "print(\"Precision score: {:.3f}\".format(knn_precision_score_undersample))"
   ]
  },
  {
   "cell_type": "code",
   "execution_count": 117,
   "metadata": {},
   "outputs": [
    {
     "name": "stdout",
     "output_type": "stream",
     "text": [
      "Accuracy score: 0.51\n",
      "Recall score: 1.00\n",
      "F1 score: 0.67\n",
      "Precision score: 0.51\n"
     ]
    }
   ],
   "source": [
    "#Random Undersampling Imbalanced Datasets\n",
    "mlp_accuracy_score_undersample = accuracy_score(y_test_undersample, mlp_predict_undersample)\n",
    "mlp_recall_score_undersample = recall_score(y_test_undersample, mlp_predict_undersample)\n",
    "mlp_f1_score_undersample = f1_score(y_test_undersample, mlp_predict_undersample)\n",
    "mlp_precision_score_undersample = precision_score(y_test_undersample, mlp_predict_undersample)\n",
    "print(\"Accuracy score: {:.2f}\".format(mlp_accuracy_score_undersample))\n",
    "print(\"Recall score: {:.2f}\".format(mlp_recall_score_undersample))\n",
    "print(\"F1 score: {:.2f}\".format(mlp_f1_score_undersample))\n",
    "print(\"Precision score: {:.2f}\".format(mlp_precision_score_undersample))"
   ]
  },
  {
   "cell_type": "code",
   "execution_count": 118,
   "metadata": {},
   "outputs": [
    {
     "name": "stdout",
     "output_type": "stream",
     "text": [
      "Accuracy score: 0.468\n",
      "Recall score: 0.382\n",
      "F1 score: 0.421\n",
      "Precision score: 0.470\n"
     ]
    }
   ],
   "source": [
    "#Random Undersampling Imbalanced Datasets\n",
    "rfc_accuracy_score_undersample = accuracy_score(y_test_undersample, rfc_predict_undersample)\n",
    "rfc_recall_score_undersample = recall_score(y_test_undersample, rfc_predict_undersample)\n",
    "rfc_f1_score_undersample = f1_score(y_test_undersample, rfc_predict_undersample)\n",
    "rfc_precision_score_undersample = precision_score(y_test_undersample, rfc_predict_undersample)\n",
    "print(\"Accuracy score: {:.3f}\".format(rfc_accuracy_score_undersample))\n",
    "print(\"Recall score: {:.3f}\".format(rfc_recall_score_undersample))\n",
    "print(\"F1 score: {:.3f}\".format(rfc_f1_score_undersample))\n",
    "print(\"Precision score: {:.3f}\".format(rfc_precision_score_undersample))"
   ]
  },
  {
   "cell_type": "code",
   "execution_count": 119,
   "metadata": {},
   "outputs": [
    {
     "name": "stdout",
     "output_type": "stream",
     "text": [
      "Accuracy score: 0.468\n",
      "Recall score: 0.417\n",
      "F1 score: 0.443\n",
      "Precision score: 0.472\n"
     ]
    }
   ],
   "source": [
    "#Random Undersampling Imbalanced Datasets\n",
    "xgb_accuracy_score_undersample = accuracy_score(y_test_undersample, xgb_predict_undersample)\n",
    "xgb_recall_score_undersample = recall_score(y_test_undersample, xgb_predict_undersample)\n",
    "xgb_f1_score_undersample = f1_score(y_test_undersample, xgb_predict_undersample)\n",
    "xgb_precision_score_undersample = precision_score(y_test_undersample, xgb_predict_undersample)\n",
    "print(\"Accuracy score: {:.3f}\".format(xgb_accuracy_score_undersample))\n",
    "print(\"Recall score: {:.3f}\".format(xgb_recall_score_undersample))\n",
    "print(\"F1 score: {:.3f}\".format(xgb_f1_score_undersample))\n",
    "print(\"Precision score: {:.3f}\".format(xgb_precision_score_undersample))"
   ]
  },
  {
   "cell_type": "code",
   "execution_count": 120,
   "metadata": {},
   "outputs": [
    {
     "name": "stdout",
     "output_type": "stream",
     "text": [
      "Accuracy score: 0.900\n",
      "Recall score: 0.915\n",
      "F1 score: 0.902\n",
      "Precision score: 0.890\n"
     ]
    }
   ],
   "source": [
    "#Oversampling with SMOTE\n",
    "knn_accuracy_score_smote = accuracy_score(y_test_smote, knn_predict_smote)\n",
    "knn_recall_score_smote = recall_score(y_test_smote, knn_predict_smote)\n",
    "knn_f1_score_smote = f1_score(y_test_smote, knn_predict_smote)\n",
    "knn_precision_score_smote = precision_score(y_test_smote, knn_predict_smote)\n",
    "print(\"Accuracy score: {:.3f}\".format(knn_accuracy_score_smote))\n",
    "print(\"Recall score: {:.3f}\".format(knn_recall_score_smote))\n",
    "print(\"F1 score: {:.3f}\".format(knn_f1_score_smote))\n",
    "print(\"Precision score: {:.3f}\".format(knn_precision_score_smote))"
   ]
  },
  {
   "cell_type": "code",
   "execution_count": 121,
   "metadata": {},
   "outputs": [
    {
     "name": "stdout",
     "output_type": "stream",
     "text": [
      "Accuracy score: 0.50\n",
      "Recall score: 0.00\n",
      "F1 score: 0.00\n",
      "Precision score: 0.00\n"
     ]
    }
   ],
   "source": [
    "#Oversampling with SMOTE\n",
    "mlp_accuracy_score_smote = accuracy_score(y_test_smote, mlp_predict_smote)\n",
    "mlp_recall_score_smote = recall_score(y_test_smote, mlp_predict_smote)\n",
    "mlp_f1_score_smote = f1_score(y_test_smote, mlp_predict_smote)\n",
    "mlp_precision_score_smote = precision_score(y_test_smote, mlp_predict_smote)\n",
    "print(\"Accuracy score: {:.2f}\".format(mlp_accuracy_score_smote))\n",
    "print(\"Recall score: {:.2f}\".format(mlp_recall_score_smote))\n",
    "print(\"F1 score: {:.2f}\".format(mlp_f1_score_smote))\n",
    "print(\"Precision score: {:.2f}\".format(mlp_precision_score_smote))"
   ]
  },
  {
   "cell_type": "code",
   "execution_count": 122,
   "metadata": {},
   "outputs": [
    {
     "name": "stdout",
     "output_type": "stream",
     "text": [
      "Accuracy score: 0.954\n",
      "Recall score: 0.913\n",
      "F1 score: 0.952\n",
      "Precision score: 0.994\n"
     ]
    }
   ],
   "source": [
    "#Oversampling with SMOTE\n",
    "rfc_accuracy_score_smote = accuracy_score(y_test_smote, rfc_predict_smote)\n",
    "rfc_recall_score_smote = recall_score(y_test_smote, rfc_predict_smote)\n",
    "rfc_f1_score_smote = f1_score(y_test_smote, rfc_predict_smote)\n",
    "rfc_precision_score_smote = precision_score(y_test_smote, rfc_predict_smote)\n",
    "print(\"Accuracy score: {:.3f}\".format(rfc_accuracy_score_smote))\n",
    "print(\"Recall score: {:.3f}\".format(rfc_recall_score_smote))\n",
    "print(\"F1 score: {:.3f}\".format(rfc_f1_score_smote))\n",
    "print(\"Precision score: {:.3f}\".format(rfc_precision_score_smote))"
   ]
  },
  {
   "cell_type": "code",
   "execution_count": null,
   "metadata": {},
   "outputs": [],
   "source": [
    "#Oversampling with SMOTE\n",
    "xgb_accuracy_score_smote = accuracy_score(y_test_smote, xgb_predict_smote)\n",
    "xgb_recall_score_smote = recall_score(y_test_smote, xgb_predict_smote)\n",
    "xgb_f1_score_smote = f1_score(y_test_smote, xgb_predict_smote)\n",
    "xgb_precision_score_smote = precision_score(y_test_smote, xgb_predict_smote)\n",
    "print(\"Accuracy score: {:.3f}\".format(xgb_accuracy_score_smote))\n",
    "print(\"Recall score: {:.3f}\".format(xgb_recall_score_smote))\n",
    "print(\"F1 score: {:.3f}\".format(xgb_f1_score_smote))\n",
    "print(\"Precision score: {:.3f}\".format(xgb_precision_score_smote))"
   ]
  }
 ],
 "metadata": {
  "kernelspec": {
   "display_name": "Python 3",
   "language": "python",
   "name": "python3"
  },
  "language_info": {
   "codemirror_mode": {
    "name": "ipython",
    "version": 3
   },
   "file_extension": ".py",
   "mimetype": "text/x-python",
   "name": "python",
   "nbconvert_exporter": "python",
   "pygments_lexer": "ipython3",
   "version": "3.7.4"
  }
 },
 "nbformat": 4,
 "nbformat_minor": 4
}
