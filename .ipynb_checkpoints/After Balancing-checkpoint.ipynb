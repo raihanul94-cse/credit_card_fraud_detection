{
 "cells": [
  {
   "cell_type": "code",
   "execution_count": 2,
   "metadata": {},
   "outputs": [],
   "source": [
    "import numpy as np\n",
    "import pandas as pd\n",
    "import matplotlib.pyplot as plt\n",
    "from sklearn.neighbors import KNeighborsClassifier\n",
    "from sklearn.neural_network import MLPClassifier\n",
    "from sklearn.model_selection import cross_val_score\n",
    "from sklearn.model_selection import train_test_split\n",
    "from imblearn.over_sampling import SMOTE\n",
    "smote = SMOTE()"
   ]
  },
  {
   "cell_type": "code",
   "execution_count": 5,
   "metadata": {},
   "outputs": [
    {
     "data": {
      "text/plain": [
       "(284807, 31)"
      ]
     },
     "execution_count": 5,
     "metadata": {},
     "output_type": "execute_result"
    }
   ],
   "source": [
    "dataset = pd.read_csv('creditcard.csv')\n",
    "dataset.shape"
   ]
  },
  {
   "cell_type": "code",
   "execution_count": 48,
   "metadata": {},
   "outputs": [
    {
     "data": {
      "text/plain": [
       "(568630, 1)"
      ]
     },
     "execution_count": 48,
     "metadata": {},
     "output_type": "execute_result"
    }
   ],
   "source": [
    "X_smote, y_smote = smote.fit_sample(X.astype('float'), y)\n",
    "X_smote.shape"
   ]
  },
  {
   "cell_type": "code",
   "execution_count": 49,
   "metadata": {},
   "outputs": [],
   "source": [
    "X_train, X_test, y_train, y_test = train_test_split(X_smote, y_smote, test_size = 0.3)"
   ]
  },
  {
   "cell_type": "code",
   "execution_count": 50,
   "metadata": {},
   "outputs": [],
   "source": [
    "clf = KNeighborsClassifier(n_neighbors=10)"
   ]
  },
  {
   "cell_type": "code",
   "execution_count": 51,
   "metadata": {},
   "outputs": [],
   "source": [
    "neuModel = clf.fit(X_train, y_train)\n",
    "predictKNN = clf.predict(X_test)"
   ]
  },
  {
   "cell_type": "code",
   "execution_count": 52,
   "metadata": {},
   "outputs": [],
   "source": [
    "clf_ANN = MLPClassifier(solver='lbfgs', alpha=1e-5,hidden_layer_sizes=(5, 2), random_state=1)"
   ]
  },
  {
   "cell_type": "code",
   "execution_count": 53,
   "metadata": {},
   "outputs": [],
   "source": [
    "neuModel2 = clf_ANN.fit(X_train, y_train)\n",
    "predictANN = clf_ANN.predict(X_test)"
   ]
  },
  {
   "cell_type": "code",
   "execution_count": 54,
   "metadata": {},
   "outputs": [],
   "source": [
    "from sklearn.metrics import confusion_matrix, accuracy_score, recall_score, f1_score, precision_score"
   ]
  },
  {
   "cell_type": "code",
   "execution_count": 55,
   "metadata": {},
   "outputs": [],
   "source": [
    "conMatKNN=confusion_matrix(y_test,predictKNN)\n",
    "conMatANN=confusion_matrix(y_test,predictANN)"
   ]
  },
  {
   "cell_type": "code",
   "execution_count": 56,
   "metadata": {},
   "outputs": [
    {
     "name": "stdout",
     "output_type": "stream",
     "text": [
      "Confusion Matrix For KNN:\n",
      " [[71619 13538]\n",
      " [13260 72172]]\n",
      "Confusion Matrix For ANN:\n",
      " [[74334 10823]\n",
      " [52159 33273]]\n"
     ]
    }
   ],
   "source": [
    "print(\"Confusion Matrix For KNN:\\n\",conMatKNN)\n",
    "print(\"Confusion Matrix For ANN:\\n\",conMatANN)"
   ]
  },
  {
   "cell_type": "code",
   "execution_count": 57,
   "metadata": {},
   "outputs": [],
   "source": [
    "recallKNN=recall_score(y_test,predictKNN)\n",
    "f1KNN=f1_score(y_test,predictKNN)\n",
    "precisionKNN=precision_score(y_test,predictKNN)\n",
    "accuracyKNN=accuracy_score(y_test,predictKNN)"
   ]
  },
  {
   "cell_type": "code",
   "execution_count": 58,
   "metadata": {},
   "outputs": [
    {
     "name": "stdout",
     "output_type": "stream",
     "text": [
      "Recall KNN:  0.844788837906171\n",
      "F1 Score KNN:  0.8434165780463008\n",
      "Precision KNN:  0.8420487691051219\n",
      "Accuracy KNN:  0.8429089800631928\n"
     ]
    }
   ],
   "source": [
    "print(\"Recall KNN: \",recallKNN)\n",
    "print(\"F1 Score KNN: \",f1KNN)\n",
    "print(\"Precision KNN: \", precisionKNN)\n",
    "print(\"Accuracy KNN: \", accuracyKNN)"
   ]
  },
  {
   "cell_type": "code",
   "execution_count": 59,
   "metadata": {},
   "outputs": [],
   "source": [
    "recallANN=recall_score(y_test,predictANN)\n",
    "f1ANN=f1_score(y_test,predictANN)\n",
    "precisionANN=precision_score(y_test,predictANN)\n",
    "accuracyANN=accuracy_score(y_test,predictANN)"
   ]
  },
  {
   "cell_type": "code",
   "execution_count": 60,
   "metadata": {},
   "outputs": [
    {
     "name": "stdout",
     "output_type": "stream",
     "text": [
      "Recall ANN:  0.3894676467834067\n",
      "F1 Score ANN:  0.513757643135075\n",
      "Precision ANN:  0.754558236574746\n",
      "Accuracy ANN:  0.6307968274624975\n"
     ]
    }
   ],
   "source": [
    "print(\"Recall ANN: \",recallANN)\n",
    "print(\"F1 Score ANN: \",f1ANN)\n",
    "print(\"Precision ANN: \", precisionANN)\n",
    "print(\"Accuracy ANN: \", accuracyANN)"
   ]
  }
 ],
 "metadata": {
  "kernelspec": {
   "display_name": "Python 3",
   "language": "python",
   "name": "python3"
  },
  "language_info": {
   "codemirror_mode": {
    "name": "ipython",
    "version": 3
   },
   "file_extension": ".py",
   "mimetype": "text/x-python",
   "name": "python",
   "nbconvert_exporter": "python",
   "pygments_lexer": "ipython3",
   "version": "3.7.4"
  }
 },
 "nbformat": 4,
 "nbformat_minor": 4
}
