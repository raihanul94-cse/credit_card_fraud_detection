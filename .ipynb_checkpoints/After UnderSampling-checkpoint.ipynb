{
 "cells": [
  {
   "cell_type": "code",
   "execution_count": 1,
   "metadata": {},
   "outputs": [],
   "source": [
    "import numpy as np\n",
    "import pandas as pd\n",
    "from sklearn.neighbors import KNeighborsClassifier\n",
    "from sklearn.neural_network import MLPClassifier\n",
    "from sklearn.model_selection import cross_val_score\n",
    "from sklearn.model_selection import train_test_split\n",
    "from imblearn.over_sampling import SMOTE\n",
    "smote = SMOTE()"
   ]
  },
  {
   "cell_type": "code",
   "execution_count": 16,
   "metadata": {
    "scrolled": true
   },
   "outputs": [],
   "source": [
    "dataset = pd.read_csv('creditcard.csv')\n"
   ]
  },
  {
   "cell_type": "code",
   "execution_count": 17,
   "metadata": {},
   "outputs": [
    {
     "data": {
      "text/plain": [
       "(984, 31)"
      ]
     },
     "execution_count": 17,
     "metadata": {},
     "output_type": "execute_result"
    }
   ],
   "source": [
    "data_group = dataset.groupby('Class')\n",
    "d=data_group.size().min()\n",
    "data_sample = data_group.apply(lambda x: x.sample(data_group.size().min()).reset_index(drop=True))\n",
    "data_sample.shape"
   ]
  },
  {
   "cell_type": "code",
   "execution_count": 4,
   "metadata": {},
   "outputs": [],
   "source": [
    "X = data_sample.iloc[:,29:-1].values\n",
    "y = data_sample.iloc[:,30].values"
   ]
  },
  {
   "cell_type": "code",
   "execution_count": 5,
   "metadata": {},
   "outputs": [],
   "source": [
    "X_train, X_test, y_train, y_test = train_test_split(X, y, test_size = 0.3)"
   ]
  },
  {
   "cell_type": "code",
   "execution_count": 6,
   "metadata": {},
   "outputs": [],
   "source": [
    "clf_KNN = KNeighborsClassifier(n_neighbors=10)\n",
    "neighModel = clf_KNN.fit(X_train, y_train)\n",
    "predictKNN = clf_KNN.predict(X_test)\n",
    "modelNav = cross_val_score(neighModel,X_test,y_test,cv=10)"
   ]
  },
  {
   "cell_type": "code",
   "execution_count": 7,
   "metadata": {},
   "outputs": [],
   "source": [
    "clf_ANN = MLPClassifier(solver='lbfgs', alpha=1e-5,hidden_layer_sizes=(5, 2), random_state=1)\n",
    "neuModel = clf_ANN.fit(X_train, y_train)\n",
    "predictANN = clf_ANN.predict(X_test)\n",
    "modelNeu = cross_val_score(neuModel,X_test,y_test,cv=10)"
   ]
  },
  {
   "cell_type": "code",
   "execution_count": 8,
   "metadata": {},
   "outputs": [
    {
     "name": "stdout",
     "output_type": "stream",
     "text": [
      "KNN RESULT:[0.76666667 0.7        0.76666667 0.8        0.7        0.56666667\n",
      " 0.44827586 0.75862069 0.75862069 0.65517241]\n",
      "ANN RESULT:[0.63333333 0.7        0.8        0.56666667 0.63333333 0.6\n",
      " 0.51724138 0.5862069  0.65517241 0.55172414]\n"
     ]
    }
   ],
   "source": [
    "print(\"KNN RESULT:{}\".format(modelNav))\n",
    "print(\"ANN RESULT:{}\".format(modelNeu))"
   ]
  },
  {
   "cell_type": "code",
   "execution_count": 9,
   "metadata": {},
   "outputs": [],
   "source": [
    "from sklearn.metrics import confusion_matrix, accuracy_score, recall_score, f1_score, precision_score"
   ]
  },
  {
   "cell_type": "code",
   "execution_count": 10,
   "metadata": {},
   "outputs": [],
   "source": [
    "conMatKNN=confusion_matrix(y_test,predictKNN)\n",
    "conMatANN=confusion_matrix(y_test,predictANN)"
   ]
  },
  {
   "cell_type": "code",
   "execution_count": 11,
   "metadata": {},
   "outputs": [
    {
     "name": "stdout",
     "output_type": "stream",
     "text": [
      "Confusion Matrix For KNN:\n",
      " [[106  26]\n",
      " [ 62 102]]\n",
      "Confusion Matrix For ANN:\n",
      " [[118  14]\n",
      " [105  59]]\n"
     ]
    }
   ],
   "source": [
    "print(\"Confusion Matrix For KNN:\\n\",conMatKNN)\n",
    "print(\"Confusion Matrix For ANN:\\n\",conMatANN)"
   ]
  },
  {
   "cell_type": "code",
   "execution_count": 12,
   "metadata": {},
   "outputs": [],
   "source": [
    "recallKNN=recall_score(y_test,predictKNN)\n",
    "f1KNN=f1_score(y_test,predictKNN)\n",
    "precisionKNN=precision_score(y_test,predictKNN)\n",
    "accuracyKNN=accuracy_score(y_test,predictKNN)"
   ]
  },
  {
   "cell_type": "code",
   "execution_count": 13,
   "metadata": {},
   "outputs": [
    {
     "name": "stdout",
     "output_type": "stream",
     "text": [
      "Recall KNN:  0.6219512195121951\n",
      "F1 Score KNN:  0.6986301369863013\n",
      "Precision KNN:  0.796875\n",
      "Accuracy KNN:  0.7027027027027027\n"
     ]
    }
   ],
   "source": [
    "print(\"Recall KNN: \",recallKNN)\n",
    "print(\"F1 Score KNN: \",f1KNN)\n",
    "print(\"Precision KNN: \", precisionKNN)\n",
    "print(\"Accuracy KNN: \", accuracyKNN)"
   ]
  },
  {
   "cell_type": "code",
   "execution_count": 14,
   "metadata": {},
   "outputs": [],
   "source": [
    "recallANN=recall_score(y_test,predictANN)\n",
    "f1ANN=f1_score(y_test,predictANN)\n",
    "precisionANN=precision_score(y_test,predictANN)\n",
    "accuracyANN=accuracy_score(y_test,predictANN)"
   ]
  },
  {
   "cell_type": "code",
   "execution_count": 15,
   "metadata": {},
   "outputs": [
    {
     "name": "stdout",
     "output_type": "stream",
     "text": [
      "Recall ANN:  0.3597560975609756\n",
      "F1 Score ANN:  0.4978902953586498\n",
      "Precision ANN:  0.8082191780821918\n",
      "Accuracy ANN:  0.597972972972973\n"
     ]
    }
   ],
   "source": [
    "print(\"Recall ANN: \",recallANN)\n",
    "print(\"F1 Score ANN: \",f1ANN)\n",
    "print(\"Precision ANN: \", precisionANN)\n",
    "print(\"Accuracy ANN: \", accuracyANN)"
   ]
  }
 ],
 "metadata": {
  "kernelspec": {
   "display_name": "Python 3",
   "language": "python",
   "name": "python3"
  },
  "language_info": {
   "codemirror_mode": {
    "name": "ipython",
    "version": 3
   },
   "file_extension": ".py",
   "mimetype": "text/x-python",
   "name": "python",
   "nbconvert_exporter": "python",
   "pygments_lexer": "ipython3",
   "version": "3.7.4"
  }
 },
 "nbformat": 4,
 "nbformat_minor": 4
}
